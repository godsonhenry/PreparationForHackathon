{
 "cells": [
  {
   "cell_type": "code",
   "execution_count": 1,
   "metadata": {
    "collapsed": false,
    "deletable": true,
    "editable": true
   },
   "outputs": [
    {
     "name": "stderr",
     "output_type": "stream",
     "text": [
      "/usr/local/lib/python3.5/dist-packages/openpyxl/reader/worksheet.py:310: UserWarning: Unknown extension is not supported and will be removed\n",
      "  warn(msg)\n"
     ]
    }
   ],
   "source": [
    "\n",
    "# coding: utf-8\n",
    "\n",
    "'''\n",
    "Here I write a simulator as season()\n",
    "It will simulate the Playoffs and return the results of each round.\n",
    "Also a function called revenue(teamnumber) could return the total gate revenue\n",
    "of a team, given a certain simulator.\n",
    "'''\n",
    "\n",
    "import numpy as np\n",
    "from random import random\n",
    "from openpyxl import load_workbook, Workbook\n",
    "import matplotlib.pyplot as plt\n",
    "\n",
    "\n",
    "wb = load_workbook(filename = 'win_probabilities.xlsx')\n",
    "ws = wb['win_probabilities.csv']\n",
    "wins = np.ndarray(shape=(16,16), dtype=float)\n",
    "for i in range(16):\n",
    "    for j in range(16):\n",
    "        wins[i][j] = 0.0\n",
    "i = 1\n",
    "\n",
    "# west team will have small numbers\n",
    "\n",
    "while i < len(ws['A']):\n",
    "    if ws['A'][i].value[0] == 'W':\n",
    "        home = int(ws['A'][i].value[4]) - 1\n",
    "    else:\n",
    "        home = int(ws['A'][i].value[4]) + 7\n",
    "    if ws['B'][i].value[0] == 'W':\n",
    "        away = int(ws['B'][i].value[4]) - 1\n",
    "    else:\n",
    "        away = int(ws['B'][i].value[4]) + 7\n",
    "    wins[home][away] = ws['C'][i].value\n",
    "    wins[away][home] = 1-ws['D'][i].value\n",
    "    i += 1\n",
    "\n",
    "\n",
    "\n",
    "\n",
    "wb = load_workbook(filename = 'Business-Track-Application-Datasets.xlsx')\n",
    "ws = wb['Hypothetical Playoff Gate Data']\n",
    "rev = np.ndarray(shape=(16,4), dtype=float)\n",
    "for i in range(3, 19):\n",
    "    for j in range(2, 6):\n",
    "        if i >= 11:\n",
    "            k = i - 8\n",
    "        else:\n",
    "            k = i + 8\n",
    "        rev[k-3][j-2] = ws[i][j].value\n",
    "\n",
    "\n",
    "def htclear(ht):\n",
    "    # clean hashtable\n",
    "    ht = None\n",
    "    from random import random\n",
    "    ht = dict()\n",
    "    for i in range(4):\n",
    "        ht[i] = dict()\n",
    "        for j in range(16):\n",
    "            ht[i][j] = 0\n",
    "    return ht\n",
    "ht = dict()\n",
    "ht = htclear(ht)\n",
    "\n",
    "\n",
    "\n",
    "def t2wins(ph, pa):\n",
    "    # calculate the probability the game will finish in N games\n",
    "    pa = 1 - pa\n",
    "    w4 = ph**2 * pa**2\n",
    "    w5 = (2*ph*(1-ph)*pa**2+2*ph**2*pa*(1-pa))*ph\n",
    "    w6 = (3*ph*(1-ph)**2*pa**2+ph**3*(1-pa)**2+3*2*ph**2*(1-ph)*pa*(1-pa))*pa\n",
    "    w7 = ((1-ph)**3*pa**3\n",
    "          + ph**3*(1-pa)**3\n",
    "          + 9*ph**2*(1-ph)*pa*(1-pa)**2\n",
    "          + 9*ph*(1-ph)**2*pa**2*(1-pa)) * ph\n",
    "    ph, pa = 1-ph, 1-pa\n",
    "    w4 += ph**2 * pa**2\n",
    "    w5 += (2*ph*(1-ph)*pa**2+2*ph**2*pa*(1-pa))*ph\n",
    "    w6 += (3*ph*(1-ph)**2*pa**2+ph**3*(1-pa)**2+3*2*ph**2*(1-ph)*pa*(1-pa))*pa\n",
    "    w7 += ((1-ph)**3*pa**3\n",
    "          + ph**3*(1-pa)**3\n",
    "          + 9*ph**2*(1-ph)*pa*(1-pa)**2\n",
    "          + 9*ph*(1-ph)**2*pa**2*(1-pa)) * ph    \n",
    "    \n",
    "    return [w4, w5, w6, w7]\n",
    "\n",
    "\n",
    "def macths(tt1,tt2):\n",
    "        # calculate a macth of two certain teams\n",
    "    if (tt2 < tt1 and tt1 < 8) or (tt2 >= 8 and tt1 > tt2) or (tt2 + 8 < tt1):\n",
    "        t1, t2 = tt2, tt1\n",
    "    else:\n",
    "        t1, t2 = tt1, tt2\n",
    "        \n",
    "    t1wins, t2wins = 0, 0\n",
    "    t1h, t2h = 0, 0\n",
    "    i = 0\n",
    "    while t1wins<4 and t2wins<4:\n",
    "        if i==0 or i==1 or i==4 or i==6:\n",
    "            p = wins[t1][t2]\n",
    "            flag = True\n",
    "        else:\n",
    "            p = 1 - wins[t2][t1]\n",
    "            flag = False\n",
    "        if random() < p:\n",
    "            t1wins += 1\n",
    "            if flag:\n",
    "                t1h += 1\n",
    "            else:\n",
    "                t2h += 1\n",
    "        else:\n",
    "            t2wins += 1\n",
    "            if flag:\n",
    "                t1h += 1\n",
    "            else:\n",
    "                t2h += 1\n",
    "        i += 1\n",
    "    if t1wins == 4:\n",
    "        winner = t1\n",
    "    else:\n",
    "        winner = t2\n",
    "    j = 0\n",
    "    while j < 3 and ht[j][t1] != 0:\n",
    "        j += 1\n",
    "    ht[j][t1] = t1h\n",
    "    ht[j][t2] = t2h\n",
    "    return winner\n",
    "    \n",
    "\n",
    "def season():\n",
    "    # this is the main simulator for the Playoffs\n",
    "    tlist = list(range(16))\n",
    "    round_one_win_list = []\n",
    "    for i in range(4):\n",
    "        round_one_win_list.append(macths(tlist[i],tlist[7-i]))\n",
    "    for i in range(4):\n",
    "        round_one_win_list.append(macths(tlist[8+i],tlist[15-i]))\n",
    "    round_two_win_list = []\n",
    "    for i in range(2):\n",
    "        round_two_win_list.append(macths(round_one_win_list[i],round_one_win_list[3-i]))\n",
    "    for i in range(2):\n",
    "        round_two_win_list.append(macths(round_one_win_list[4+i],round_one_win_list[7-i]))\n",
    "    round_three_win_list = []\n",
    "    round_three_win_list.append(macths(round_two_win_list[0],round_two_win_list[1]))\n",
    "    round_three_win_list.append(macths(round_two_win_list[2],round_two_win_list[3]))        \n",
    "    round_four_win_list = macths(round_three_win_list[0],round_three_win_list[1])\n",
    "    return round_one_win_list, round_two_win_list, round_three_win_list, round_four_win_list\n",
    "\n",
    "def revenue(t):\n",
    "    # a revenue function, which will return a certain team total gate revenue given a ceratin\n",
    "    # simulator\n",
    "    total = 0\n",
    "    for i in range(4):\n",
    "        total += rev[t][i] * ht[i][t]\n",
    "    return total\n",
    "\n",
    "\n",
    "# show a distribution for question c\n",
    "\n",
    "\n"
   ]
  },
  {
   "cell_type": "code",
   "execution_count": null,
   "metadata": {
    "collapsed": true,
    "deletable": true,
    "editable": true
   },
   "outputs": [],
   "source": [
    "n = 100000\n",
    "dis = []\n",
    "for i in range(n):\n",
    "    season()\n",
    "    dis.append(revenue(0))\n",
    "    ht = htclear(ht)\n",
    "dis.sort()\n",
    "htdis = dict()\n",
    "for ele in dis:\n",
    "    if ele not in htdis:\n",
    "        htdis[ele] = 1\n",
    "    else:\n",
    "        htdis[ele] += 1\n",
    "x = []\n",
    "y = []\n",
    "n = len(dis)\n",
    "for ele in htdis:\n",
    "    x.append(ele)\n",
    "    y.append(htdis[ele]/n)\n",
    "yy = [i for _,i in sorted(zip(y,x))]\n",
    "x.sort()\n",
    "plt.plot(x, y)\n",
    "plt.show()"
   ]
  },
  {
   "cell_type": "code",
   "execution_count": 14,
   "metadata": {
    "collapsed": false,
    "deletable": true,
    "editable": true
   },
   "outputs": [
    {
     "name": "stdout",
     "output_type": "stream",
     "text": [
      "0.38886 83869003.5892\n"
     ]
    }
   ],
   "source": [
    "n = 1000000\n",
    "count = 0.0\n",
    "dis = []\n",
    "for i in range(n):\n",
    "    if season()[2] == [0,8]:\n",
    "        count += 1\n",
    "        dis.append(revenue(0))\n",
    "    ht = htclear(ht)\n",
    "\n",
    "print(count/n, np.mean(dis))"
   ]
  },
  {
   "cell_type": "code",
   "execution_count": 18,
   "metadata": {
    "collapsed": false,
    "deletable": true,
    "editable": true
   },
   "outputs": [
    {
     "name": "stdout",
     "output_type": "stream",
     "text": [
      "0.611064 60341987.063\n"
     ]
    }
   ],
   "source": [
    "n = 1000000\n",
    "count = 0.0\n",
    "dis = []\n",
    "for i in range(n):\n",
    "    if not(season()[2] == [0,8]):\n",
    "        count += 1\n",
    "        dis.append(revenue(0))\n",
    "    ht = htclear(ht)\n",
    "print(count/n, np.mean(dis))"
   ]
  },
  {
   "cell_type": "code",
   "execution_count": 23,
   "metadata": {
    "collapsed": false,
    "deletable": true,
    "editable": true
   },
   "outputs": [
    {
     "name": "stdout",
     "output_type": "stream",
     "text": [
      "0.621741 59670238.606\n"
     ]
    }
   ],
   "source": [
    "n = 1000000\n",
    "count = 0.0\n",
    "dis = []\n",
    "i = 0\n",
    "while i < n:\n",
    "    a,b,c,d = season()\n",
    "    if (5 in a):\n",
    "        i += 1        \n",
    "        if not(c == [0,8]):\n",
    "            count += 1\n",
    "            dis.append(revenue(0))\n",
    "    ht = htclear(ht)\n",
    "print(count/n, np.mean(dis))"
   ]
  },
  {
   "cell_type": "code",
   "execution_count": null,
   "metadata": {
    "collapsed": false,
    "deletable": true,
    "editable": true
   },
   "outputs": [],
   "source": []
  },
  {
   "cell_type": "code",
   "execution_count": null,
   "metadata": {
    "collapsed": false,
    "deletable": true,
    "editable": true
   },
   "outputs": [],
   "source": []
  },
  {
   "cell_type": "code",
   "execution_count": null,
   "metadata": {
    "collapsed": true,
    "deletable": true,
    "editable": true
   },
   "outputs": [],
   "source": []
  }
 ],
 "metadata": {
  "kernelspec": {
   "display_name": "Python 3",
   "language": "python",
   "name": "python3"
  },
  "language_info": {
   "codemirror_mode": {
    "name": "ipython",
    "version": 3
   },
   "file_extension": ".py",
   "mimetype": "text/x-python",
   "name": "python",
   "nbconvert_exporter": "python",
   "pygments_lexer": "ipython3",
   "version": "3.5.2"
  }
 },
 "nbformat": 4,
 "nbformat_minor": 2
}
