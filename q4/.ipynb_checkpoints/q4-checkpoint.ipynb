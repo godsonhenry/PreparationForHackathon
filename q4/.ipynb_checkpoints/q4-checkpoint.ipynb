{
 "cells": [
  {
   "cell_type": "code",
   "execution_count": 13,
   "metadata": {
    "collapsed": false,
    "deletable": true,
    "editable": true
   },
   "outputs": [],
   "source": [
    "import numpy as np\n",
    "from random import random\n",
    "from openpyxl import load_workbook, Workbook"
   ]
  },
  {
   "cell_type": "code",
   "execution_count": 52,
   "metadata": {
    "collapsed": false,
    "deletable": true,
    "editable": true
   },
   "outputs": [
    {
     "name": "stderr",
     "output_type": "stream",
     "text": [
      "/usr/local/lib/python3.5/dist-packages/openpyxl/reader/worksheet.py:310: UserWarning: Unknown extension is not supported and will be removed\n",
      "  warn(msg)\n"
     ]
    }
   ],
   "source": [
    "wb = load_workbook(filename = 'win_probabilities.xlsx')\n",
    "ws = wb['win_probabilities.csv']\n",
    "wins = np.ndarray(shape=(16,16), dtype=float)\n",
    "for i in range(16):\n",
    "    for j in range(16):\n",
    "        wins[i][j] = 0.0\n",
    "i = 1\n",
    "while i < len(ws['A']):\n",
    "    if ws['A'][i].value[0] == 'W':\n",
    "        home = int(ws['A'][i].value[4]) - 1\n",
    "    else:\n",
    "        home = int(ws['A'][i].value[4]) + 7\n",
    "    if ws['B'][i].value[0] == 'W':\n",
    "        away = int(ws['B'][i].value[4]) - 1\n",
    "    else:\n",
    "        away = int(ws['B'][i].value[4]) + 7\n",
    "    wins[home][away] = ws['C'][i].value\n",
    "    wins[away][home] = 1-ws['D'][i].value\n",
    "    i += 1"
   ]
  },
  {
   "cell_type": "code",
   "execution_count": 53,
   "metadata": {
    "collapsed": false,
    "deletable": true,
    "editable": true
   },
   "outputs": [],
   "source": [
    "wb = load_workbook(filename = 'Business-Track-Application-Datasets.xlsx')\n",
    "ws = wb['Hypothetical Playoff Gate Data']\n",
    "rev = np.ndarray(shape=(16,4), dtype=float)\n",
    "for i in range(3, 19):\n",
    "    for j in range(2, 6):\n",
    "        if i >= 11:\n",
    "            k = i - 8\n",
    "        else:\n",
    "            k = i + 8\n",
    "        rev[k-3][j-2] = ws[i][j].value"
   ]
  },
  {
   "cell_type": "code",
   "execution_count": 54,
   "metadata": {
    "collapsed": false
   },
   "outputs": [],
   "source": [
    "def htclear(ht):\n",
    "    \n",
    "    ht = None\n",
    "    from random import random\n",
    "    ht = dict()\n",
    "    for i in range(4):\n",
    "        ht[i] = dict()\n",
    "        for j in range(16):\n",
    "            ht[i][j] = 0\n",
    "    return ht\n",
    "ht = htclear(ht)"
   ]
  },
  {
   "cell_type": "code",
   "execution_count": 55,
   "metadata": {
    "collapsed": false,
    "deletable": true,
    "editable": true
   },
   "outputs": [],
   "source": [
    "def t2wins(ph, pa):\n",
    "    pa = 1 - pa\n",
    "    w4 = ph**2 * pa**2\n",
    "    w5 = (2*ph*(1-ph)*pa**2+2*ph**2*pa*(1-pa))*ph\n",
    "    w6 = (3*ph*(1-ph)**2*pa**2+ph**3*(1-pa)**2+3*2*ph**2*(1-ph)*pa*(1-pa))*pa\n",
    "    w7 = ((1-ph)**3*pa**3\n",
    "          + ph**3*(1-pa)**3\n",
    "          + 9*ph**2*(1-ph)*pa*(1-pa)**2\n",
    "          + 9*ph*(1-ph)**2*pa**2*(1-pa)) * ph\n",
    "    ph, pa = 1-ph, 1-pa\n",
    "    w4 += ph**2 * pa**2\n",
    "    w5 += (2*ph*(1-ph)*pa**2+2*ph**2*pa*(1-pa))*ph\n",
    "    w6 += (3*ph*(1-ph)**2*pa**2+ph**3*(1-pa)**2+3*2*ph**2*(1-ph)*pa*(1-pa))*pa\n",
    "    w7 += ((1-ph)**3*pa**3\n",
    "          + ph**3*(1-pa)**3\n",
    "          + 9*ph**2*(1-ph)*pa*(1-pa)**2\n",
    "          + 9*ph*(1-ph)**2*pa**2*(1-pa)) * ph    \n",
    "    \n",
    "    return [w4, w5, w6, w7]\n",
    "#t2wins(wins[0][10], wins[10][0])"
   ]
  },
  {
   "cell_type": "code",
   "execution_count": 56,
   "metadata": {
    "collapsed": false
   },
   "outputs": [],
   "source": [
    "def macths(tt1,tt2):\n",
    "    if (tt2 < tt1 and tt1 < 8) or (tt2 + 8 < tt1):\n",
    "        t1, t2 = tt2, tt1\n",
    "    else:\n",
    "        t1, t2 = tt1, tt2\n",
    "        \n",
    "    t1wins, t2wins = 0, 0\n",
    "    t1h, t2h = 0, 0\n",
    "    i = 0\n",
    "    while t1wins<4 and t2wins<4:\n",
    "        if i==0 or i==1 or i==4 or i==6:\n",
    "            p = wins[t1][t2]\n",
    "            flag = True\n",
    "        else:\n",
    "            p = 1 - wins[t2][t1]\n",
    "            flag = False\n",
    "        if random() < p:\n",
    "            t1wins += 1\n",
    "            if flag:\n",
    "                t1h += 1\n",
    "            else:\n",
    "                t2h += 1\n",
    "        else:\n",
    "            t2wins += 1\n",
    "            if flag:\n",
    "                t1h += 1\n",
    "            else:\n",
    "                t2h += 1\n",
    "        i += 1\n",
    "    if t1wins == 4:\n",
    "        winner = t1\n",
    "    else:\n",
    "        winner = t2\n",
    "    j = 0\n",
    "    while j < 3 and ht[j][t1] != 0:\n",
    "        j += 1\n",
    "    ht[j][t1] = t1h\n",
    "    ht[j][t2] = t2h\n",
    "    #print(winner, t1wins, t2wins, t1h, t2h, t1, ht[t1], t2, ht[t2], wins[t1][t2], wins[t2][t1])     \n",
    "    #print('winner', winner, t1wins, t2wins)\n",
    "    #print('t1h, t2h', t1h, t2h, t1, ht[t1], t2, ht[t2])\n",
    "    return winner\n",
    "    #return winner, t1wins, t2wins, t1h, t2h, wins[t1][t2], wins[t2][t1]\n",
    "\n",
    "def season():\n",
    "    tlist = list(range(16))\n",
    "    round_one_win_list = []\n",
    "    for i in range(4):\n",
    "        round_one_win_list.append(macths(tlist[i],tlist[7-i]))\n",
    "    for i in range(4):\n",
    "        round_one_win_list.append(macths(tlist[8+i],tlist[15-i]))\n",
    "    round_two_win_list = []\n",
    "    for i in range(2):\n",
    "        round_two_win_list.append(macths(round_one_win_list[i],round_one_win_list[3-i]))\n",
    "    for i in range(2):\n",
    "        round_two_win_list.append(macths(round_one_win_list[4+i],round_one_win_list[7-i]))\n",
    "    round_three_win_list = []\n",
    "    round_three_win_list.append(macths(round_two_win_list[0],round_two_win_list[1]))\n",
    "    round_three_win_list.append(macths(round_two_win_list[2],round_two_win_list[3]))        \n",
    "    round_four_win_list = macths(round_three_win_list[0],round_three_win_list[1])\n",
    "    return round_one_win_list, round_two_win_list, round_three_win_list, round_four_win_list\n",
    "\n",
    "def revenue(t):\n",
    "    total = 0\n",
    "    for i in range(4):\n",
    "        total += rev[t][i] * ht[i][t]\n",
    "    return total\n"
   ]
  },
  {
   "cell_type": "code",
   "execution_count": 57,
   "metadata": {
    "collapsed": false,
    "deletable": true,
    "editable": true
   },
   "outputs": [
    {
     "data": {
      "text/plain": [
       "'\\nk =0\\nn =1000000\\nfor i in range(n):\\n    if macths(0,1)[0]==0:\\n        k += 1\\nprint(k/n)\\n'"
      ]
     },
     "execution_count": 57,
     "metadata": {},
     "output_type": "execute_result"
    }
   ],
   "source": [
    "#check macths()\n",
    "'''\n",
    "k =0\n",
    "n =1000000\n",
    "for i in range(n):\n",
    "    if macths(0,1)[0]==0:\n",
    "        k += 1\n",
    "print(k/n)\n",
    "'''"
   ]
  },
  {
   "cell_type": "code",
   "execution_count": 58,
   "metadata": {
    "collapsed": false
   },
   "outputs": [],
   "source": [
    "import numpy as np\n",
    "import matplotlib.pyplot as plt"
   ]
  },
  {
   "cell_type": "code",
   "execution_count": null,
   "metadata": {
    "collapsed": true
   },
   "outputs": [],
   "source": []
  },
  {
   "cell_type": "code",
   "execution_count": 112,
   "metadata": {
    "collapsed": false
   },
   "outputs": [
    {
     "data": {
      "image/png": "[encoded data removed]",
      "text/plain": [
       "<matplotlib.figure.Figure at 0x7f82de056e80>"
      ]
     },
     "metadata": {},
     "output_type": "display_data"
    }
   ],
   "source": [
    "n = 100000\n",
    "dis = []\n",
    "for i in range(n):\n",
    "    season()\n",
    "    dis.append(revenue(0))\n",
    "    ht = htclear(ht)\n",
    "dis.sort()\n",
    "htdis = dict()\n",
    "for ele in dis:\n",
    "    if ele not in htdis:\n",
    "        htdis[ele] = 1\n",
    "    else:\n",
    "        htdis[ele] += 1\n",
    "x = []\n",
    "y = []\n",
    "n = len(dis)\n",
    "for ele in htdis:\n",
    "    x.append(ele)\n",
    "    y.append(htdis[ele]/n)\n",
    "yy = [i for _,i in sorted(zip(y,x))]\n",
    "x.sort()\n",
    "plt.plot(x, y)\n",
    "plt.show()"
   ]
  },
  {
   "cell_type": "code",
   "execution_count": null,
   "metadata": {
    "collapsed": false
   },
   "outputs": [],
   "source": []
  },
  {
   "cell_type": "code",
   "execution_count": null,
   "metadata": {
    "collapsed": false
   },
   "outputs": [],
   "source": []
  },
  {
   "cell_type": "code",
   "execution_count": null,
   "metadata": {
    "collapsed": false
   },
   "outputs": [],
   "source": [
    "\n",
    "    "
   ]
  },
  {
   "cell_type": "code",
   "execution_count": null,
   "metadata": {
    "collapsed": false
   },
   "outputs": [],
   "source": []
  },
  {
   "cell_type": "code",
   "execution_count": null,
   "metadata": {
    "collapsed": true
   },
   "outputs": [],
   "source": []
  }
 ],
 "metadata": {
  "kernelspec": {
   "display_name": "Python 3",
   "language": "python",
   "name": "python3"
  },
  "language_info": {
   "codemirror_mode": {
    "name": "ipython",
    "version": 3
   },
   "file_extension": ".py",
   "mimetype": "text/x-python",
   "name": "python",
   "nbconvert_exporter": "python",
   "pygments_lexer": "ipython3",
   "version": "3.5.2"
  }
 },
 "nbformat": 4,
 "nbformat_minor": 2
}
