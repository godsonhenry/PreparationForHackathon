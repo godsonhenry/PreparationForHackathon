{
 "cells": [
  {
   "cell_type": "markdown",
   "metadata": {
    "collapsed": false,
    "deletable": true,
    "editable": true
   },
   "source": [
    "## Q1: After the Golden State Warriors acquired former MVP Kevin Durant in 2016, some NBA fans speculated that the Warriors would not lose consecutive games at any point of the season."
   ]
  },
  {
   "cell_type": "markdown",
   "metadata": {},
   "source": [
    "### a) If you wanted to determine the probability that this prediction would be true (i.e., that the Warriors would never lose consecutive games at any point during an 82-game season), what is one approach (or a few approaches) you may use to solve the problem? What answer do you get? Exact answers are of course welcome, but approaches that lead to approximations (and those approximations) are fine, too (please specify the precision of your estimate). Assume the Warriors have an 80% chance of winning each individual game."
   ]
  },
  {
   "cell_type": "code",
   "execution_count": 1,
   "metadata": {
    "collapsed": true
   },
   "outputs": [],
   "source": [
    "# solution for the question:\n",
    "# if one event has P prob happenning, trying N times, what posibility it will happen m times straight,\n",
    "# or in other word, happenning consecutively in m times.  "
   ]
  },
  {
   "cell_type": "code",
   "execution_count": 2,
   "metadata": {
    "collapsed": true,
    "deletable": true,
    "editable": true
   },
   "outputs": [],
   "source": [
    "import math\n",
    "import random"
   ]
  },
  {
   "cell_type": "code",
   "execution_count": 3,
   "metadata": {
    "collapsed": false,
    "deletable": true,
    "editable": true
   },
   "outputs": [
    {
     "name": "stdout",
     "output_type": "stream",
     "text": [
      "The chance they lose consecutive games 0.941253\n"
     ]
    }
   ],
   "source": [
    "# this is the example using simulation\n",
    "# nn, ll is the simulation times and the results\n",
    "# n is times that event happenning\n",
    "# p is the prob the event happening in one time.\n",
    "# m is the consecutive times you need to observe\n",
    "nn,n,m,ll = 10000000,82,2,0\n",
    "p = 0.2\n",
    "for i in range(1,nn):\n",
    "    l = 0\n",
    "    flag = 0\n",
    "    for j in range(1,n+1):\n",
    "\n",
    "        rand = random.random()\n",
    "        if (rand<p):\n",
    "            l += 1\n",
    "            if l >=m:\n",
    "                flag = 1\n",
    "\n",
    "        else:\n",
    "            l = 0\n",
    "    if flag == 1:\n",
    "        ll += 1\n",
    "\n",
    "print('The chance they lose consecutive games', ll/nn)"
   ]
  },
  {
   "cell_type": "code",
   "execution_count": 4,
   "metadata": {
    "collapsed": true,
    "deletable": true,
    "editable": true
   },
   "outputs": [],
   "source": [
    "# this is the final solution\n",
    "# let's assume that event CE means that the simple event happenning M times consecutively\n",
    "# X(n) means the prob that CE first happening at the n time.\n",
    "# Y(n) means the prob that CE happenning in the total time n, which we trying.\n",
    "# We will have the function:\n",
    "# X(n) = (1 - Y(n-2)) * Px\n",
    "# Y(n) = sum(X(n-1))\n",
    "# when Px = (1-p)*p**m \n",
    "# the boundry of X: X[0:m+1] = [p**m, px, ..., px], of Y: Y[0] = X[0]\n",
    "# the Y(n) will be the answer"
   ]
  },
  {
   "cell_type": "code",
   "execution_count": 5,
   "metadata": {
    "collapsed": false,
    "deletable": true,
    "editable": true
   },
   "outputs": [],
   "source": [
    "# set the boundary\n",
    "n = 82\n",
    "x = list()\n",
    "y = list()\n",
    "m = 2\n",
    "p = 0.2\n",
    "px = (1-p)*p**m\n",
    "x = [p**m]\n",
    "for i in range(0,m):\n",
    "    x.append(px)\n",
    "y = [x[0]]"
   ]
  },
  {
   "cell_type": "code",
   "execution_count": 6,
   "metadata": {
    "collapsed": false,
    "deletable": true,
    "editable": true
   },
   "outputs": [
    {
     "name": "stdout",
     "output_type": "stream",
     "text": [
      "The chance they lose consecutive games 0.9411831355860739\n"
     ]
    }
   ],
   "source": [
    "for i in range(0,(n-2*m)):\n",
    "    x.append((1-y[i])*px)\n",
    "    y.append(sum(x[0:-m]))\n",
    "print('The chance they lose consecutive games', sum(x))\n",
    "# we didnot calculate all the Yn, so y[-1] will not be the answer here."
   ]
  },
  {
   "cell_type": "markdown",
   "metadata": {},
   "source": [
    "### b) So, would you have agreed with that hypothesis?"
   ]
  },
  {
   "cell_type": "markdown",
   "metadata": {},
   "source": [
    "#### Answer: According to estimated probability, the chance for that Warriors would not lose consecutive games at any point of the season is only 5%-6%. It was a tricky question because statistically the confidence interval is 95% normally, the hypothesis of 5%-6% probability could not be rejected. However, the selection of confidence interval should be adjusted based on business setting. At the condition of 90% confidence interval, the hypothesis could be rejected."
   ]
  },
  {
   "cell_type": "markdown",
   "metadata": {},
   "source": [
    "### c) Finally, at least what % of a team's games would a team need to be expected to win (assuming that win probability stays constant from game to game) for there to be a greater than 50% chance that the team never suffers consecutive losses at any point in the season?"
   ]
  },
  {
   "cell_type": "code",
   "execution_count": 7,
   "metadata": {
    "collapsed": false,
    "deletable": true,
    "editable": true
   },
   "outputs": [
    {
     "name": "stdout",
     "output_type": "stream",
     "text": [
      "They need to be at this probability to win : 0.9037800000000639\n"
     ]
    }
   ],
   "source": [
    "def changep(p):\n",
    "    n = 82\n",
    "    x = list()\n",
    "    y = list()\n",
    "    m = 2\n",
    "    px = (1-p)*p**m\n",
    "    x = [p**m]\n",
    "    for i in range(0,m):\n",
    "        x.append(px)\n",
    "    y = [x[0]]\n",
    "    for i in range(0,(n-2*m)):\n",
    "        x.append((1-y[i])*px)\n",
    "        y.append(sum(x[0:-m]))\n",
    "    return(sum(x))\n",
    "\n",
    "p = 0.2\n",
    "while changep(p) > 0.5:\n",
    "    p -= 0.00001\n",
    "print('They need to be at this probability to win :', 1-p)"
   ]
  },
  {
   "cell_type": "code",
   "execution_count": null,
   "metadata": {
    "collapsed": true
   },
   "outputs": [],
   "source": []
  }
 ],
 "metadata": {
  "kernelspec": {
   "display_name": "Python 3",
   "language": "python",
   "name": "python3"
  },
  "language_info": {
   "codemirror_mode": {
    "name": "ipython",
    "version": 3
   },
   "file_extension": ".py",
   "mimetype": "text/x-python",
   "name": "python",
   "nbconvert_exporter": "python",
   "pygments_lexer": "ipython3",
   "version": "3.5.2"
  }
 },
 "nbformat": 4,
 "nbformat_minor": 2
}
