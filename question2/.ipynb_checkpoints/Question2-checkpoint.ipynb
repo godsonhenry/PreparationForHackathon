{
 "cells": [
  {
   "cell_type": "markdown",
   "metadata": {},
   "source": [
    "## 2) BONUS: For an upcoming presentation, you are asked to predict total gate revenue for the entire NBA Playoffs. You should use the win probabilities data provided in this file and the Hypothetical Playoff Gate Data tab in this file to answer part b of the question."
   ]
  },
  {
   "cell_type": "markdown",
   "metadata": {},
   "source": [
    "### a) As a primer, let’s think about an individual series. Team East1 plays Team East8 in the First Round. Suppose the probability that East1 defeats East8 at home (8 @ 1) is p_H, and the probability that East1 defeats East8 on the road (1 @ 8) is p_A. In terms of p_H and p_A, what is the probability that the series goes exactly N games for N in {4,5,6,7}, regardless of winner? Please give closed-form analytical solutions."
   ]
  },
  {
   "cell_type": "raw",
   "metadata": {},
   "source": [
    "Suppose w(n) is the probability that East1 wins the game in n games, l(n) is the probability that East1 loses in n games, and f(n) is the probability the series finished in n games. So f(n) = w(n) + l(n)\n",
    "    w4 = p_H**2 * p_A**2\n",
    "    w5 = (2*p_H*(1-p_H)*p_A**2+2*p_H**2*p_A*(1-p_A))*p_H\n",
    "    w6 = (3*p_H*(1-p_H)**2*p_A**2+p_H**3*(1-p_A)**2+3*2*p_H**2*(1-p_H)*p_A*(1-p_A))*p_A\n",
    "    w7 = ((1-p_H)**3*p_A**3\n",
    "          + p_H**3*(1-p_A)**3\n",
    "          + 9*p_H**2*(1-p_H)*p_A*(1-p_A)**2\n",
    "          + 9*p_H*(1-p_H)**2*p_A**2*(1-p_A)) * p_H\n",
    "    l4 = (1-p_H)**2 * (1-p_A)**2\n",
    "    l5 = (2*(1-p_H)*p_H*(1-p_A)**2+2*(1-p_H)**2*(1-p_A)*p_A)*(1-p_H)\n",
    "    l6 = (3*(1-p_H)*p_H**2*(1-p_A)**2+(1-p_H)**3*p_A**2+3*2*(1-p_H)**2*p_H*(1-p_A)*p_A)*(1-p_A)\n",
    "    l7 = (p_H**3*(1-p_A)**3\n",
    "          + (1-p_H)**3*p_A**3\n",
    "          + 9*(1-p_H)**2*p_H*(1-p_A)*p_A**2\n",
    "          + 9*(1-p_H)*p_H**2*(1-p_A)**2*p_A) * (1-p_H)\n",
    "F4 = w4 + l4\n",
    "F5 = w5 + l5\n",
    "F6 = w6 + l6\n",
    "F7 = w7 + l7"
   ]
  },
  {
   "cell_type": "markdown",
   "metadata": {},
   "source": [
    "### b) Now suppose that the regular season has just concluded and the NBA playoff picture is set. Team Finance has forecasted gate revenue per game for every team in each possible round – these per-game forecasts for each (team, round) combination are given in the Hypothetical Playoff Gate Data tab in the attached Excel file. Further suppose you are given win_probabilities.csv, which describes the probability that a given team defeats any other team, either at home or on the road. (The format of the probabilities in each row may not be standard.) Note that there is no re-seeding in the NBA Playoffs and that each series follows a 2-2-1-1-1 format. If equal seeds make the Finals, suppose the West team has home court advantage; otherwise, suppose the better seed has home court. Build a playoff simulator that tracks gate revenue using this data. (Assume each game is independent.) Please include any code or any additional materials you used to build your simulator in a zip folder."
   ]
  },
  {
   "cell_type": "code",
   "execution_count": 1,
   "metadata": {
    "collapsed": false
   },
   "outputs": [
    {
     "name": "stderr",
     "output_type": "stream",
     "text": [
      "/usr/local/lib/python3.5/dist-packages/openpyxl/reader/worksheet.py:310: UserWarning: Unknown extension is not supported and will be removed\n",
      "  warn(msg)\n"
     ]
    }
   ],
   "source": [
    "\n",
    "'''\n",
    "Here I write a simulator as season()\n",
    "It will simulate the Playoffs and return the results of each round.\n",
    "Also a function called revenue(teamnumber) could return the total gate revenue\n",
    "of a team, given a certain simulator.\n",
    "'''\n",
    "\n",
    "import numpy as np\n",
    "from random import random\n",
    "from openpyxl import load_workbook, Workbook\n",
    "import matplotlib.pyplot as plt\n",
    "\n",
    "\n",
    "wb = load_workbook(filename = 'win_probabilities.xlsx')\n",
    "ws = wb['win_probabilities.csv']\n",
    "wins = np.ndarray(shape=(16,16), dtype=float)\n",
    "for i in range(16):\n",
    "    for j in range(16):\n",
    "        wins[i][j] = 0.0\n",
    "i = 1\n",
    "\n",
    "# west team will have small numbers\n",
    "\n",
    "while i < len(ws['A']):\n",
    "    if ws['A'][i].value[0] == 'W':\n",
    "        home = int(ws['A'][i].value[4]) - 1\n",
    "    else:\n",
    "        home = int(ws['A'][i].value[4]) + 7\n",
    "    if ws['B'][i].value[0] == 'W':\n",
    "        away = int(ws['B'][i].value[4]) - 1\n",
    "    else:\n",
    "        away = int(ws['B'][i].value[4]) + 7\n",
    "    wins[home][away] = ws['C'][i].value\n",
    "    wins[away][home] = 1-ws['D'][i].value\n",
    "    i += 1\n",
    "\n",
    "\n",
    "\n",
    "\n",
    "wb = load_workbook(filename = 'Business-Track-Application-Datasets.xlsx')\n",
    "ws = wb['Hypothetical Playoff Gate Data']\n",
    "rev = np.ndarray(shape=(16,4), dtype=float)\n",
    "for i in range(3, 19):\n",
    "    for j in range(2, 6):\n",
    "        if i >= 11:\n",
    "            k = i - 8\n",
    "        else:\n",
    "            k = i + 8\n",
    "        rev[k-3][j-2] = ws[i][j].value\n",
    "\n",
    "\n",
    "def htclear(ht):\n",
    "    # clean hashtable\n",
    "    ht = None\n",
    "    from random import random\n",
    "    ht = dict()\n",
    "    for i in range(4):\n",
    "        ht[i] = dict()\n",
    "        for j in range(16):\n",
    "            ht[i][j] = 0\n",
    "    return ht\n",
    "ht = dict()\n",
    "ht = htclear(ht)\n",
    "\n",
    "\n",
    "\n",
    "def t2wins(ph, pa):\n",
    "    # calculate the probability the game will finish in N games\n",
    "    pa = 1 - pa\n",
    "    w4 = ph**2 * pa**2\n",
    "    w5 = (2*ph*(1-ph)*pa**2+2*ph**2*pa*(1-pa))*ph\n",
    "    w6 = (3*ph*(1-ph)**2*pa**2+ph**3*(1-pa)**2+3*2*ph**2*(1-ph)*pa*(1-pa))*pa\n",
    "    w7 = ((1-ph)**3*pa**3\n",
    "          + ph**3*(1-pa)**3\n",
    "          + 9*ph**2*(1-ph)*pa*(1-pa)**2\n",
    "          + 9*ph*(1-ph)**2*pa**2*(1-pa)) * ph\n",
    "    ph, pa = 1-ph, 1-pa\n",
    "    w4 += ph**2 * pa**2\n",
    "    w5 += (2*ph*(1-ph)*pa**2+2*ph**2*pa*(1-pa))*ph\n",
    "    w6 += (3*ph*(1-ph)**2*pa**2+ph**3*(1-pa)**2+3*2*ph**2*(1-ph)*pa*(1-pa))*pa\n",
    "    w7 += ((1-ph)**3*pa**3\n",
    "          + ph**3*(1-pa)**3\n",
    "          + 9*ph**2*(1-ph)*pa*(1-pa)**2\n",
    "          + 9*ph*(1-ph)**2*pa**2*(1-pa)) * ph    \n",
    "    \n",
    "    return [w4, w5, w6, w7]\n",
    "\n",
    "\n",
    "def macths(tt1,tt2):\n",
    "    # calculate a macth of two certain teams\n",
    "    if (tt2 < tt1 and tt1 < 8) or (tt2 >= 8 and tt1 > tt2) or (tt2 + 8 < tt1):\n",
    "        t1, t2 = tt2, tt1\n",
    "    else:\n",
    "        t1, t2 = tt1, tt2\n",
    "        \n",
    "    t1wins, t2wins = 0, 0\n",
    "    t1h, t2h = 0, 0\n",
    "    i = 0\n",
    "    while t1wins<4 and t2wins<4:\n",
    "        if i==0 or i==1 or i==4 or i==6:\n",
    "            p = wins[t1][t2]\n",
    "            flag = True\n",
    "        else:\n",
    "            p = 1 - wins[t2][t1]\n",
    "            flag = False\n",
    "        if random() < p:\n",
    "            t1wins += 1\n",
    "            if flag:\n",
    "                t1h += 1\n",
    "            else:\n",
    "                t2h += 1\n",
    "        else:\n",
    "            t2wins += 1\n",
    "            if flag:\n",
    "                t1h += 1\n",
    "            else:\n",
    "                t2h += 1\n",
    "        i += 1\n",
    "    if t1wins == 4:\n",
    "        winner = t1\n",
    "    else:\n",
    "        winner = t2\n",
    "    j = 0\n",
    "    while j < 3 and ht[j][t1] != 0:\n",
    "        j += 1\n",
    "    ht[j][t1] = t1h\n",
    "    ht[j][t2] = t2h\n",
    "    return winner\n",
    "    \n",
    "\n",
    "def season():\n",
    "    # this is the main simulator for the Playoffs\n",
    "    tlist = list(range(16))\n",
    "    round_one_win_list = []\n",
    "    for i in range(4):\n",
    "        round_one_win_list.append(macths(tlist[i],tlist[7-i]))\n",
    "    for i in range(4):\n",
    "        round_one_win_list.append(macths(tlist[8+i],tlist[15-i]))\n",
    "    round_two_win_list = []\n",
    "    for i in range(2):\n",
    "        round_two_win_list.append(macths(round_one_win_list[i],round_one_win_list[3-i]))\n",
    "    for i in range(2):\n",
    "        round_two_win_list.append(macths(round_one_win_list[4+i],round_one_win_list[7-i]))\n",
    "    round_three_win_list = []\n",
    "    round_three_win_list.append(macths(round_two_win_list[0],round_two_win_list[1]))\n",
    "    round_three_win_list.append(macths(round_two_win_list[2],round_two_win_list[3]))        \n",
    "    round_four_win_list = macths(round_three_win_list[0],round_three_win_list[1])\n",
    "    return round_one_win_list, round_two_win_list, round_three_win_list, round_four_win_list\n",
    "\n",
    "def revenue(t):\n",
    "    # a revenue function, which will return a certain team total gate revenue given a ceratin\n",
    "    # simulator\n",
    "    total = 0\n",
    "    for i in range(4):\n",
    "        total += rev[t][i] * ht[i][t]\n",
    "    return total"
   ]
  },
  {
   "cell_type": "markdown",
   "metadata": {},
   "source": [
    "### c) How do you propose to present a solution to the team? You want to ensure the team understands that there is a relatively wide distribution of possible outcomes. What is the solution?"
   ]
  },
  {
   "cell_type": "code",
   "execution_count": 2,
   "metadata": {
    "collapsed": false
   },
   "outputs": [
    {
     "data": {
      "image/png": "[encoded data removed]",
      "text/plain": [
       "<matplotlib.figure.Figure at 0x7fafc40bb908>"
      ]
     },
     "metadata": {},
     "output_type": "display_data"
    },
    {
     "name": "stdout",
     "output_type": "stream",
     "text": [
      "This is the distribution of the total revenue, as we can see here, the ourcomes are in a very large range.\n"
     ]
    }
   ],
   "source": [
    "# show a distribution for question c\n",
    "\n",
    "n = 100000\n",
    "dis = []\n",
    "for i in range(n):\n",
    "    season()\n",
    "    dis.append(revenue(0))\n",
    "    ht = htclear(ht)\n",
    "dis.sort()\n",
    "htdis = dict()\n",
    "for ele in dis:\n",
    "    if ele not in htdis:\n",
    "        htdis[ele] = 1\n",
    "    else:\n",
    "        htdis[ele] += 1\n",
    "x = []\n",
    "y = []\n",
    "n = len(dis)\n",
    "for ele in htdis:\n",
    "    x.append(ele)\n",
    "    y.append(htdis[ele]/n)\n",
    "yy = [i for _,i in sorted(zip(y,x))]\n",
    "x.sort()\n",
    "plt.plot(x, y)\n",
    "plt.show()\n",
    "print('This is the distribution of the total revenue, as we can see here, the ourcomes are in a very large range.')"
   ]
  },
  {
   "cell_type": "markdown",
   "metadata": {},
   "source": [
    "### d) What is the probability that West1 meets East1 in the Finals? What is the expected total Playoffs gate revenue if West1 meets East1 in the Finals? What if West1 does not meet East1 in the Finals? How does your solution change if – independent of all other series – East5 defeats East4 in the First Round? You don’t know how many games the series went; you just know the outcome."
   ]
  },
  {
   "cell_type": "markdown",
   "metadata": {},
   "source": [
    "#### What is the probability that West1 meets East1 in the Finals?"
   ]
  },
  {
   "cell_type": "code",
   "execution_count": 3,
   "metadata": {
    "collapsed": false
   },
   "outputs": [
    {
     "name": "stdout",
     "output_type": "stream",
     "text": [
      "The probability that West1 meets East1 in the Finals :  0.38901\n"
     ]
    }
   ],
   "source": [
    "n = 1000000\n",
    "count = 0.0\n",
    "dis = []\n",
    "for i in range(n):\n",
    "    if season()[2] == [0,8]:\n",
    "        count += 1\n",
    "        dis.append(revenue(0))\n",
    "    ht = htclear(ht)\n",
    "\n",
    "print('The probability that West1 meets East1 in the Finals : ', count/n)"
   ]
  },
  {
   "cell_type": "markdown",
   "metadata": {},
   "source": [
    "#### What is the expected total Playoffs gate revenue if West1 meets East1 in the Finals?"
   ]
  },
  {
   "cell_type": "code",
   "execution_count": 4,
   "metadata": {
    "collapsed": false
   },
   "outputs": [
    {
     "name": "stdout",
     "output_type": "stream",
     "text": [
      "The expected total Playoffs gate revenue if West1 meets East1 in the Finals :  83899660.2889\n"
     ]
    }
   ],
   "source": [
    "print('The expected total Playoffs gate revenue if West1 meets East1 in the Finals : ', np.mean(dis))"
   ]
  },
  {
   "cell_type": "markdown",
   "metadata": {},
   "source": [
    "#### What if West1 does not meet East1 in the Finals?"
   ]
  },
  {
   "cell_type": "code",
   "execution_count": null,
   "metadata": {
    "collapsed": false
   },
   "outputs": [
    {
     "name": "stdout",
     "output_type": "stream",
     "text": [
      "The probability West1 does not meet East1 in the Finals :  0.61032\n",
      "The expected total Playoffs gate revenue if West1 does not meet East1 in the Finals :  60402041.8187\n"
     ]
    }
   ],
   "source": [
    "n = 1000000\n",
    "count = 0.0\n",
    "dis = []\n",
    "for i in range(n):\n",
    "    if not(season()[2] == [0,8]):\n",
    "        count += 1\n",
    "        dis.append(revenue(0))\n",
    "    ht = htclear(ht)\n",
    "print('The probability West1 does not meet East1 in the Finals : ', count/n)\n",
    "print('The expected total Playoffs gate revenue if West1 does not meet East1 in the Finals : ', np.mean(dis))"
   ]
  },
  {
   "cell_type": "markdown",
   "metadata": {},
   "source": [
    "#### How does your solution change if – independent of all other series – East5 defeats East4 in the First Round?"
   ]
  },
  {
   "cell_type": "code",
   "execution_count": null,
   "metadata": {
    "collapsed": true
   },
   "outputs": [],
   "source": [
    "n = 1000000\n",
    "count = 0.0\n",
    "dis = []\n",
    "i = 0\n",
    "while i < n:\n",
    "    a,b,c,d = season()\n",
    "    if (5 in a):\n",
    "        i += 1        \n",
    "        if not(c == [0,8]):\n",
    "            count += 1\n",
    "            dis.append(revenue(0))\n",
    "    ht = htclear(ht)\n",
    "print('The probability : ', count/n)\n",
    "print('The expected total Playoffs gate revenue : ', np.mean(dis))"
   ]
  }
 ],
 "metadata": {
  "kernelspec": {
   "display_name": "Python 3",
   "language": "python",
   "name": "python3"
  },
  "language_info": {
   "codemirror_mode": {
    "name": "ipython",
    "version": 3
   },
   "file_extension": ".py",
   "mimetype": "text/x-python",
   "name": "python",
   "nbconvert_exporter": "python",
   "pygments_lexer": "ipython3",
   "version": "3.5.2"
  }
 },
 "nbformat": 4,
 "nbformat_minor": 2
}
