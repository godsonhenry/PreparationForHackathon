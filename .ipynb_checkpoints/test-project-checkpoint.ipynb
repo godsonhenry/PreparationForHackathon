{
 "cells": [
  {
   "cell_type": "code",
   "execution_count": 1,
   "metadata": {
    "collapsed": false,
    "deletable": true,
    "editable": true
   },
   "outputs": [],
   "source": [
    "from openpyxl import load_workbook\n",
    "import copy"
   ]
  },
  {
   "cell_type": "code",
   "execution_count": 2,
   "metadata": {
    "collapsed": true,
    "deletable": true,
    "editable": true
   },
   "outputs": [],
   "source": [
    "wb = load_workbook(filename = 'Analytics_Attachment.xlsx')"
   ]
  },
  {
   "cell_type": "code",
   "execution_count": 8,
   "metadata": {
    "collapsed": false,
    "deletable": true,
    "editable": true
   },
   "outputs": [
    {
     "data": {
      "text/plain": [
       "['Division_Info', '2016_17_NBA_Scores', 'Sample_NBA_Clinch_Dates']"
      ]
     },
     "execution_count": 8,
     "metadata": {},
     "output_type": "execute_result"
    }
   ],
   "source": [
    "wb.sheetnames"
   ]
  },
  {
   "cell_type": "code",
   "execution_count": 11,
   "metadata": {
    "collapsed": false
   },
   "outputs": [
    {
     "data": {
      "text/plain": [
       "<Worksheet \"Division_Info\">"
      ]
     },
     "execution_count": 11,
     "metadata": {},
     "output_type": "execute_result"
    }
   ],
   "source": [
    "ws = wb['Division_Info']\n",
    "ws"
   ]
  },
  {
   "cell_type": "code",
   "execution_count": 19,
   "metadata": {
    "collapsed": false
   },
   "outputs": [
    {
     "data": {
      "text/plain": [
       "'Boston Celtics'"
      ]
     },
     "execution_count": 19,
     "metadata": {},
     "output_type": "execute_result"
    }
   ],
   "source": [
    "ws[2][0].value"
   ]
  },
  {
   "cell_type": "code",
   "execution_count": 17,
   "metadata": {
    "collapsed": false,
    "deletable": true,
    "editable": true
   },
   "outputs": [
    {
     "name": "stdout",
     "output_type": "stream",
     "text": [
      "Division_Info\n",
      "Division_id\n",
      "2016_17_NBA_Scores\n",
      "Home Team\n",
      "Sample_NBA_Clinch_Dates\n",
      "Date Eliminated\n"
     ]
    }
   ],
   "source": [
    "for sheet in wb:\n",
    "    print(sheet.title)\n",
    "    ws = wb[sheet.title]\n",
    "    print(ws['B1'].value)"
   ]
  },
  {
   "cell_type": "code",
   "execution_count": 25,
   "metadata": {
    "collapsed": true,
    "deletable": true,
    "editable": true
   },
   "outputs": [],
   "source": [
    "class Team(object):\n",
    "    def __init__(self, name):\n",
    "        self.name = name"
   ]
  },
  {
   "cell_type": "code",
   "execution_count": 35,
   "metadata": {
    "collapsed": true
   },
   "outputs": [],
   "source": [
    "teamlist = dict()"
   ]
  },
  {
   "cell_type": "code",
   "execution_count": 36,
   "metadata": {
    "collapsed": false
   },
   "outputs": [],
   "source": [
    "newteam = Team('A')\n",
    "teamlist[newteam.name] = newteam"
   ]
  },
  {
   "cell_type": "code",
   "execution_count": 41,
   "metadata": {
    "collapsed": false
   },
   "outputs": [
    {
     "data": {
      "text/plain": [
       "<__main__.Team at 0x7fa63d5ab278>"
      ]
     },
     "execution_count": 41,
     "metadata": {},
     "output_type": "execute_result"
    }
   ],
   "source": [
    "teamlist['A']"
   ]
  },
  {
   "cell_type": "code",
   "execution_count": 42,
   "metadata": {
    "collapsed": false
   },
   "outputs": [
    {
     "data": {
      "text/plain": [
       "<__main__.Team at 0x7fa63d5ab278>"
      ]
     },
     "execution_count": 42,
     "metadata": {},
     "output_type": "execute_result"
    }
   ],
   "source": [
    "newteam"
   ]
  },
  {
   "cell_type": "code",
   "execution_count": 39,
   "metadata": {
    "collapsed": true
   },
   "outputs": [],
   "source": [
    "newteam2 = Team('B')\n",
    "teamlist[newteam2.name] = newteam2"
   ]
  },
  {
   "cell_type": "code",
   "execution_count": 43,
   "metadata": {
    "collapsed": false
   },
   "outputs": [
    {
     "data": {
      "text/plain": [
       "<__main__.Team at 0x7fa603c13048>"
      ]
     },
     "execution_count": 43,
     "metadata": {},
     "output_type": "execute_result"
    }
   ],
   "source": [
    "teamlist['B']"
   ]
  },
  {
   "cell_type": "code",
   "execution_count": 44,
   "metadata": {
    "collapsed": false
   },
   "outputs": [
    {
     "name": "stdout",
     "output_type": "stream",
     "text": [
      "1 2 3\n"
     ]
    }
   ],
   "source": [
    "a =1\n",
    "b=2\n",
    "c=3\n",
    "print(a,b,c)"
   ]
  },
  {
   "cell_type": "code",
   "execution_count": 103,
   "metadata": {
    "collapsed": false,
    "deletable": true,
    "editable": true
   },
   "outputs": [],
   "source": [
    "class Teams(object):\n",
    "    \n",
    "    def __init__(self, name, dev):\n",
    "        self.__team_name = name\n",
    "        self._team_dev = dev\n",
    "    \n",
    "    def get_name(self):\n",
    "        return self.__team_name\n",
    "    \n",
    "    def get_dev(self):\n",
    "        return self._team_dev\n",
    "    \n",
    "    def set_name(self, name):\n",
    "        self.__team_name = name\n",
    "        \n",
    "    def set_dev(self, dev):\n",
    "        self._team_dev = dev"
   ]
  },
  {
   "cell_type": "code",
   "execution_count": 104,
   "metadata": {
    "collapsed": false,
    "deletable": true,
    "editable": true
   },
   "outputs": [],
   "source": [
    "Bos = Teams('Bos','P')"
   ]
  },
  {
   "cell_type": "code",
   "execution_count": 105,
   "metadata": {
    "collapsed": false,
    "deletable": true,
    "editable": true
   },
   "outputs": [
    {
     "data": {
      "text/plain": [
       "'Bos'"
      ]
     },
     "execution_count": 105,
     "metadata": {},
     "output_type": "execute_result"
    }
   ],
   "source": [
    "Bos.get_name()"
   ]
  },
  {
   "cell_type": "code",
   "execution_count": 106,
   "metadata": {
    "collapsed": false,
    "deletable": true,
    "editable": true
   },
   "outputs": [
    {
     "data": {
      "text/plain": [
       "'P'"
      ]
     },
     "execution_count": 106,
     "metadata": {},
     "output_type": "execute_result"
    }
   ],
   "source": [
    "Bos.get_dev()"
   ]
  },
  {
   "cell_type": "code",
   "execution_count": 107,
   "metadata": {
    "collapsed": false,
    "deletable": true,
    "editable": true
   },
   "outputs": [],
   "source": [
    "Bos1 = copy.copy(Bos)"
   ]
  },
  {
   "cell_type": "code",
   "execution_count": 108,
   "metadata": {
    "collapsed": false,
    "deletable": true,
    "editable": true
   },
   "outputs": [
    {
     "name": "stdout",
     "output_type": "stream",
     "text": [
      "<__main__.Teams object at 0x7f753e07b128>\n"
     ]
    }
   ],
   "source": [
    "print(Bos1)"
   ]
  },
  {
   "cell_type": "code",
   "execution_count": 109,
   "metadata": {
    "collapsed": false,
    "deletable": true,
    "editable": true
   },
   "outputs": [
    {
     "name": "stdout",
     "output_type": "stream",
     "text": [
      "<__main__.Teams object at 0x7f753e093ef0>\n"
     ]
    }
   ],
   "source": [
    "print(Bos)"
   ]
  },
  {
   "cell_type": "code",
   "execution_count": 110,
   "metadata": {
    "collapsed": false,
    "deletable": true,
    "editable": true
   },
   "outputs": [
    {
     "name": "stdout",
     "output_type": "stream",
     "text": [
      "Bos\n"
     ]
    }
   ],
   "source": [
    "print(Bos1.get_name())"
   ]
  },
  {
   "cell_type": "code",
   "execution_count": 111,
   "metadata": {
    "collapsed": false,
    "deletable": true,
    "editable": true
   },
   "outputs": [
    {
     "name": "stdout",
     "output_type": "stream",
     "text": [
      "P\n"
     ]
    }
   ],
   "source": [
    "print(Bos1.get_dev())"
   ]
  },
  {
   "cell_type": "code",
   "execution_count": 112,
   "metadata": {
    "collapsed": false,
    "deletable": true,
    "editable": true
   },
   "outputs": [],
   "source": [
    "Bos1.set_dev('B')\n",
    "Bos1.set_name('B')"
   ]
  },
  {
   "cell_type": "code",
   "execution_count": 116,
   "metadata": {
    "collapsed": false,
    "deletable": true,
    "editable": true
   },
   "outputs": [
    {
     "name": "stdout",
     "output_type": "stream",
     "text": [
      "B\n",
      "B\n"
     ]
    }
   ],
   "source": [
    "print(Bos1.get_name())\n",
    "print(Bos1.get_dev())"
   ]
  },
  {
   "cell_type": "code",
   "execution_count": 117,
   "metadata": {
    "collapsed": false,
    "deletable": true,
    "editable": true
   },
   "outputs": [
    {
     "name": "stdout",
     "output_type": "stream",
     "text": [
      "Bos\n",
      "P\n"
     ]
    }
   ],
   "source": [
    "print(Bos.get_name())\n",
    "print(Bos.get_dev())"
   ]
  },
  {
   "cell_type": "code",
   "execution_count": null,
   "metadata": {
    "collapsed": false,
    "deletable": true,
    "editable": true
   },
   "outputs": [],
   "source": [
    "class Teams(object):\n",
    "    \n",
    "    def __init__(self, name, div):\n",
    "        pass\n",
    "    \n",
    "    def get_name(self):\n",
    "        pass\n",
    "    \n",
    "    def get_div(self):\n",
    "        pass\n",
    "    \n",
    "    def \n",
    "        "
   ]
  },
  {
   "cell_type": "code",
   "execution_count": null,
   "metadata": {
    "collapsed": false,
    "deletable": true,
    "editable": true
   },
   "outputs": [],
   "source": [
    "class Games(object):\n",
    "    \n",
    "    def __init__(self, date, Home, Away, win):\n",
    "        pass\n",
    "    \n",
    "    def get_"
   ]
  },
  {
   "cell_type": "code",
   "execution_count": null,
   "metadata": {
    "collapsed": true,
    "deletable": true,
    "editable": true
   },
   "outputs": [],
   "source": []
  },
  {
   "cell_type": "code",
   "execution_count": null,
   "metadata": {
    "collapsed": true,
    "deletable": true,
    "editable": true
   },
   "outputs": [],
   "source": [
    "# file name is main\n",
    "from readwrite import read_teams, read_games, writeoutlist\n",
    "from season import Season\n",
    "\n",
    "\n",
    "class NBAPredictout():\n",
    "    '''\n",
    "    '''\n",
    "    def main():\n",
    "        teams = read_teams('') #files \n",
    "        games = read_games('') #\n",
    "        se = Season(teams,games)\n",
    "        se.run()\n",
    "        outlist = se.get_outlist()\n",
    "        write_outlist(outlist) #write the list out\n",
    "\n",
    "    if __name__ == '__main__':\n",
    "        main()\n",
    "        "
   ]
  },
  {
   "cell_type": "code",
   "execution_count": null,
   "metadata": {
    "collapsed": true,
    "deletable": true,
    "editable": true
   },
   "outputs": [],
   "source": [
    "# file name is readwrite\n",
    "from season import Teams, Games\n",
    "\n",
    "def read_teams(filename):\n",
    "    pass\n",
    "\n",
    "def read_games(filename):\n",
    "    pass\n",
    "\n",
    "def write_outlist(outlist):\n",
    "    pass\n",
    "\n",
    "if __name__ == '__main__':\n",
    "    read_teams('')\n",
    "    read_games('')\n",
    "    write_outlist('')\n"
   ]
  },
  {
   "cell_type": "code",
   "execution_count": null,
   "metadata": {
    "collapsed": true,
    "deletable": true,
    "editable": true
   },
   "outputs": [],
   "source": [
    "# file name is season\n",
    "class Teams(object):\n",
    "    pass\n",
    "\n",
    "class Games(object):\n",
    "    pass\n",
    "\n",
    "class Season(object):\n",
    "    \n",
    "    class ScoreBoard(object):\n",
    "        \n",
    "        def get_win(self, teamname):\n",
    "            pass\n",
    "        \n",
    "        def get_win_total_perc(self, teamname):\n",
    "            pass\n",
    "        \n",
    "        def get_win_against(self, teamA, teamB):\n",
    "            pass\n",
    "        \n",
    "        def is_div_lead(self, teamname):\n",
    "            pass\n",
    "        \n",
    "        def get_conf_win(self, teamname):\n",
    "            pass\n",
    "        \n",
    "        def get_conf_playoff(self, teamname):\n",
    "            pass\n",
    "        \n",
    "        def get_other_conf_playoff(self,teamname):\n",
    "            pass\n",
    "    \n",
    "    def __init__(self, teams, games):\n",
    "        pass\n",
    "    \n",
    "    def run(self):\n",
    "        \n",
    "        def pop_sort(self, unsortlist):\n",
    "            pass\n",
    "        \n",
    "        def hope(self, teamname):\n",
    "            \n",
    "            def step1(self, teamname):\n",
    "                pass\n",
    "            \n",
    "            def stpe2(self, teamname):\n",
    "                pass\n",
    "            \n",
    "            def winall(self, teamname):\n",
    "                pass\n",
    "            \n",
    "        \n",
    "        pass\n",
    "    \n",
    "    def get_outlist(self):\n",
    "        pass\n",
    "    \n",
    "if __name__ == '__main__':\n",
    "    team = Teams()\n",
    "    game = Games()\n",
    "    season = Season(team, game)\n",
    "    season.run()\n",
    "    season.get_outlist()\n"
   ]
  },
  {
   "cell_type": "code",
   "execution_count": null,
   "metadata": {
    "collapsed": true,
    "deletable": true,
    "editable": true
   },
   "outputs": [],
   "source": [
    "# file name is seasonunittest.py\n",
    "import unittest\n",
    "import season\n",
    "\n",
    "class TestSeason(unittest.TestCase):\n",
    "    def test_init(self):\n",
    "        pass\n",
    "    def test_ScoreBoard(self):\n",
    "        team = Teams()\n",
    "        game = Games()\n",
    "        se_t = Season(team, game)\n",
    "        sb_t = se_t.ScoreBoard()\n",
    "        self.assertEqual(6, sb_t.get_win(''))\n",
    "    \n",
    "    if __name__ == '__main__':\n",
    "    unittest.main()\n",
    "\n",
    "\n"
   ]
  },
  {
   "cell_type": "code",
   "execution_count": 45,
   "metadata": {
    "collapsed": true,
    "deletable": true,
    "editable": true
   },
   "outputs": [],
   "source": [
    "import datetime\n",
    "d1=datetime.datetime.strptime('10/28/2016','%m/%d/%Y')\n",
    "d2=datetime.datetime.strptime('1/20/2017','%m/%d/%Y')\n",
    "datetime.datetime.strftime(d1,'%m/%d/%Y')"
   ]
  },
  {
   "cell_type": "code",
   "execution_count": null,
   "metadata": {
    "collapsed": false,
    "deletable": true,
    "editable": true
   },
   "outputs": [],
   "source": []
  },
  {
   "cell_type": "code",
   "execution_count": null,
   "metadata": {
    "collapsed": false,
    "deletable": true,
    "editable": true
   },
   "outputs": [],
   "source": []
  },
  {
   "cell_type": "code",
   "execution_count": null,
   "metadata": {
    "collapsed": false,
    "deletable": true,
    "editable": true
   },
   "outputs": [],
   "source": []
  },
  {
   "cell_type": "code",
   "execution_count": null,
   "metadata": {
    "collapsed": true,
    "deletable": true,
    "editable": true
   },
   "outputs": [],
   "source": []
  },
  {
   "cell_type": "code",
   "execution_count": null,
   "metadata": {
    "collapsed": true,
    "deletable": true,
    "editable": true
   },
   "outputs": [],
   "source": []
  },
  {
   "cell_type": "code",
   "execution_count": null,
   "metadata": {
    "collapsed": true,
    "deletable": true,
    "editable": true
   },
   "outputs": [],
   "source": []
  },
  {
   "cell_type": "code",
   "execution_count": null,
   "metadata": {
    "collapsed": true,
    "deletable": true,
    "editable": true
   },
   "outputs": [],
   "source": []
  },
  {
   "cell_type": "code",
   "execution_count": null,
   "metadata": {
    "collapsed": true,
    "deletable": true,
    "editable": true
   },
   "outputs": [],
   "source": []
  },
  {
   "cell_type": "code",
   "execution_count": null,
   "metadata": {
    "collapsed": true,
    "deletable": true,
    "editable": true
   },
   "outputs": [],
   "source": []
  },
  {
   "cell_type": "code",
   "execution_count": null,
   "metadata": {
    "collapsed": true,
    "deletable": true,
    "editable": true
   },
   "outputs": [],
   "source": []
  },
  {
   "cell_type": "code",
   "execution_count": null,
   "metadata": {
    "collapsed": true,
    "deletable": true,
    "editable": true
   },
   "outputs": [],
   "source": []
  },
  {
   "cell_type": "code",
   "execution_count": null,
   "metadata": {
    "collapsed": true,
    "deletable": true,
    "editable": true
   },
   "outputs": [],
   "source": []
  },
  {
   "cell_type": "code",
   "execution_count": null,
   "metadata": {
    "collapsed": true,
    "deletable": true,
    "editable": true
   },
   "outputs": [],
   "source": []
  },
  {
   "cell_type": "code",
   "execution_count": null,
   "metadata": {
    "collapsed": true,
    "deletable": true,
    "editable": true
   },
   "outputs": [],
   "source": []
  },
  {
   "cell_type": "code",
   "execution_count": null,
   "metadata": {
    "collapsed": true,
    "deletable": true,
    "editable": true
   },
   "outputs": [],
   "source": []
  },
  {
   "cell_type": "code",
   "execution_count": null,
   "metadata": {
    "collapsed": true,
    "deletable": true,
    "editable": true
   },
   "outputs": [],
   "source": []
  },
  {
   "cell_type": "code",
   "execution_count": null,
   "metadata": {
    "collapsed": true,
    "deletable": true,
    "editable": true
   },
   "outputs": [],
   "source": []
  },
  {
   "cell_type": "code",
   "execution_count": null,
   "metadata": {
    "collapsed": true,
    "deletable": true,
    "editable": true
   },
   "outputs": [],
   "source": []
  }
 ],
 "metadata": {
  "kernelspec": {
   "display_name": "Python 3",
   "language": "python",
   "name": "python3"
  },
  "language_info": {
   "codemirror_mode": {
    "name": "ipython",
    "version": 3
   },
   "file_extension": ".py",
   "mimetype": "text/x-python",
   "name": "python",
   "nbconvert_exporter": "python",
   "pygments_lexer": "ipython3",
   "version": "3.5.2"
  }
 },
 "nbformat": 4,
 "nbformat_minor": 2
}
